{
 "cells": [
  {
   "cell_type": "markdown",
   "metadata": {},
   "source": [
    "# Analyzing the Linear Relaxation"
   ]
  },
  {
   "cell_type": "code",
   "execution_count": null,
   "metadata": {},
   "outputs": [],
   "source": [
    "from _evaluation import (  # the code has been moved to a separate file\n",
    "    get_sample,\n",
    "    n,\n",
    "    samples,\n",
    ")"
   ]
  },
  {
   "cell_type": "markdown",
   "metadata": {},
   "source": [
    "## Getting a sample solution\n",
    "\n",
    "The following code will create a random instance and solve\n",
    "\n",
    "1. The linear relaxation with `>=2` subtour elimination constraints\n",
    "2. The linear relaxation with `>=1` subtour elimination constraints\n",
    "3. The integer programming problem to get an optimal solution\n",
    "\n",
    "It will plot the solutions for you to compare and save the results in the `samples` list."
   ]
  },
  {
   "cell_type": "code",
   "execution_count": null,
   "metadata": {},
   "outputs": [],
   "source": [
    "# Run me to get a sample on linear relaxation and integral solution\n",
    "get_sample()\n",
    "print(f\"There are now {len(samples)} samples\")"
   ]
  },
  {
   "cell_type": "code",
   "execution_count": null,
   "metadata": {},
   "outputs": [],
   "source": [
    "for i, (objective_value, linear_relaxation_value, overlap) in enumerate(samples):\n",
    "    print(\n",
    "        f\"Sample {i}: Objective value: {objective_value}, Linear relaxation value (>=2): {linear_relaxation_value}, Overlap: {overlap}/{n}\"\n",
    "    )"
   ]
  }
 ],
 "metadata": {
  "kernelspec": {
   "display_name": "mo312",
   "language": "python",
   "name": "python3"
  },
  "language_info": {
   "codemirror_mode": {
    "name": "ipython",
    "version": 3
   },
   "file_extension": ".py",
   "mimetype": "text/x-python",
   "name": "python",
   "nbconvert_exporter": "python",
   "pygments_lexer": "ipython3",
   "version": "3.12.2"
  }
 },
 "nbformat": 4,
 "nbformat_minor": 2
}
